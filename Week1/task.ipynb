{
 "cells": [
  {
   "cell_type": "markdown",
   "metadata": {},
   "source": [
    "# Week 1 Lab Assignments\n",
    "\n",
    "You are required to implement the following functions:\n",
    "- `homogenous_transform_2D` - Perform homogenous transformations for a 2D system\n",
    "- `homogenous_transform_3D` - Perform homogenous transformations for a 3D system\n",
    "- `chain_transforms` - Perform a chain of 3D transformations in the given order\n"
   ]
  },
  {
   "cell_type": "code",
   "execution_count": 1,
   "metadata": {},
   "outputs": [],
   "source": [
    "# import required libraries\n",
    "import numpy as np\n",
    "import matplotlib.pyplot as plt\n",
    "# To render plots inline\n",
    "%matplotlib inline\n",
    "\n",
    "# For unit tests\n",
    "from tester import LabTester\n",
    "lab_tester = LabTester()"
   ]
  },
  {
   "cell_type": "code",
   "execution_count": 2,
   "metadata": {},
   "outputs": [],
   "source": [
    "# Homogenous 2D Transformation\n",
    "def homogenous_transform_2D(V:np.ndarray, U:np.ndarray, theta:float) -> np.ndarray:\n",
    "    \"\"\"\n",
    "    Input:\n",
    "        V       - initial vector\n",
    "        U       - translation vector\n",
    "        theta   - angle in degrees\n",
    "    Output: resulting coordinates after rotating V by theta and translating by U\n",
    "    \"\"\"\n",
    "\n",
    "    #your code here\n",
    "\n",
    "    theta_rad = np.radians(theta)\n",
    "    \n",
    "    # Rotation matrix\n",
    "    R = np.array([[np.cos(theta_rad), -np.sin(theta_rad)],\n",
    "                  [np.sin(theta_rad), np.cos(theta_rad)]])\n",
    "\n",
    "    # Rotating the vector\n",
    "    rotated_v = R @ V\n",
    "    # Adding translation\n",
    "    translated_v = rotated_v + U\n",
    "\n",
    "    return translated_v\n",
    "\n",
    "    pass"
   ]
  },
  {
   "cell_type": "markdown",
   "metadata": {},
   "source": [
    "## Lab 1: Homogeneous Transformation in 2D\n",
    "- *Theory*: Translating and rotating a point using homogeneous transformations.\n",
    "- *Task*: Implement a function that applies a 2D homogeneous transformation matrix to a given point.\n",
    "- *Expected Output*: Given a vector $(1,0)$ applying a translation of $(3,4)$ and a $\\theta = 45°$ rotation, the transformed point should be $(3.707, 4.707)$"
   ]
  },
  {
   "cell_type": "code",
   "execution_count": 3,
   "metadata": {},
   "outputs": [
    {
     "name": "stdout",
     "output_type": "stream",
     "text": [
      "\n",
      "=== Testing 2D Homogeneous Transformation Implementation ===\n",
      "✅ Combined transform: translation(3,4) + rotation(45°)\n",
      "✅ Pure translation: no rotation\n",
      "✅ Pure rotation: no translation\n",
      "✅ Translation and rotation\n",
      "✅ Pure rotation: no translation\n",
      "✅ Combined rotation and translation\n",
      "✅ Combined rotation and translation\n",
      "✅ Combined rotation and translation\n"
     ]
    }
   ],
   "source": [
    "lab_tester.test_homogeneous_transform_2d(homogenous_transform_2D)"
   ]
  },
  {
   "cell_type": "code",
   "execution_count": 26,
   "metadata": {},
   "outputs": [],
   "source": [
    "# Homogenous 3D Transformation\n",
    "def homogenous_transform_3D(V:np.ndarray, U:np.ndarray, theta:dict) -> np.ndarray:\n",
    "    \"\"\"\n",
    "    Input:\n",
    "        V       - initial vector\n",
    "        U       - translation vector\n",
    "        theta   - dictionary of angles with the 'x', 'y' and 'z' angles\n",
    "    Output: resulting coordinates after rotating V by theta and translating by U\n",
    "    \"\"\"\n",
    "\n",
    "    #your code here\n",
    "\n",
    "    x_rad = np.radians(theta.get('x', 0))\n",
    "    y_rad = np.radians(theta.get('y', 0))\n",
    "    z_rad = np.radians(theta.get('z', 0))\n",
    "\n",
    "    # Rotation matrices\n",
    "    R_x = np.array([[1, 0, 0],\n",
    "                    [0, np.cos(x_rad), -np.sin(x_rad)],\n",
    "                    [0, np.sin(x_rad), np.cos(x_rad)]])\n",
    "    R_y = np.array([[np.cos(y_rad), 0, np.sin(y_rad)],\n",
    "                    [0, 1, 0],\n",
    "                    [-np.sin(y_rad), 0, np.cos(y_rad)]])\n",
    "    R_z = np.array([[np.cos(z_rad), -np.sin(z_rad), 0],\n",
    "                  [np.sin(z_rad),  np.cos(z_rad), 0],\n",
    "                  [0, 0, 1]])\n",
    "    \n",
    "    # Rotating the vector following the order XYZ\n",
    "    rotated_v = R_x @ R_y @ R_z @ V \n",
    "    # Adding translation   \n",
    "    translated_v = rotated_v + U\n",
    "\n",
    "    return translated_v\n",
    "\n",
    "    pass"
   ]
  },
  {
   "cell_type": "markdown",
   "metadata": {},
   "source": [
    "## Lab 4: Homogeneous Transformation in 3D\n",
    "- *Theory*: Extending 2D transformations to 3D space.\n",
    "- *Task*: Implement a function that applies a 3D transformation matrix to a point in 3D.\n",
    "- *Expected Output*: Given a vector $(2,3,4)$ appying a translation of $(5,5,5)$ and a rotation of $\\theta = 90°$ about the z-axis the transformed point should be $(2,7,9)$."
   ]
  },
  {
   "cell_type": "code",
   "execution_count": 27,
   "metadata": {},
   "outputs": [
    {
     "name": "stdout",
     "output_type": "stream",
     "text": [
      "\n",
      "=== Testing 3D Homogeneous Transformation Implementation ===\n",
      "✅ Combined 3D transform: translation(5,5,5) + rotation(90° about z)\n",
      "✅ Pure 3D translation: no rotation\n",
      "✅ Pure rotation about x-axis\n",
      "✅ Combined rotations about x, y, and z axes\n",
      "✅ Rotations with Negative Translation\n",
      "✅ Rotations by odd angles with Translation\n",
      "✅ Combined rotations about x, y, and z axes\n",
      "✅ Combined rotations about x, y, and z axes with translation\n",
      "✅ Combined rotations about x, y, and z axes with translation\n",
      "✅ Pure rotations of big angles\n",
      "✅ Combined rotations about negative x, y, and z axes with translation\n"
     ]
    }
   ],
   "source": [
    "lab_tester.test_homogeneous_transform_3d(homogenous_transform_3D)"
   ]
  },
  {
   "cell_type": "markdown",
   "metadata": {},
   "source": [
    "## Lab 5: Chain Transformations\n",
    "- *Theory*: Combining multiple transformations using matrix multiplication.\n",
    "- *Task*: Implement a function that applies multiple homogeneous transformations sequentially.\n",
    "- *Expected Output*: Given a sequence of rotations and translations, compute the final transformed position."
   ]
  },
  {
   "cell_type": "code",
   "execution_count": 28,
   "metadata": {},
   "outputs": [],
   "source": [
    "# Chain transformations\n",
    "def chain_transforms(V:np.ndarray, transforms:list) -> np.ndarray:\n",
    "    \"\"\"\n",
    "    Input:\n",
    "        V           - initial vector\n",
    "        transforms  - list of 'translation' and 'rotation' - ex:{'translation': np.array([0, 0, 0]), 'rotation': {'z': 0}}\n",
    "    Output: resulting coordinates after appyling the transforms in the given order\n",
    "    \"\"\"\n",
    "\n",
    "    #your code here\n",
    "\n",
    "    final_v = V \n",
    "    \n",
    "    for i in transforms:\n",
    "        translation_v = i.get('translation', np.array([0, 0, 0]))\n",
    "        rotation_v = i.get('rotation', {})\n",
    "        final_v = homogenous_transform_3D(final_v, translation_v, rotation_v)\n",
    "    \n",
    "    return final_v\n",
    "\n",
    "    pass"
   ]
  },
  {
   "cell_type": "code",
   "execution_count": 29,
   "metadata": {},
   "outputs": [
    {
     "name": "stdout",
     "output_type": "stream",
     "text": [
      "\n",
      "=== Testing Chain Transformations Implementation ===\n",
      "✅ Chain of two translations\n",
      "✅ Translation followed by rotation\n",
      "✅ Complex chain of transformations\n",
      "✅ Chain of identity transformations\n",
      "✅ Complex transformations\n",
      "✅ Tranform * Reverse transform\n",
      "✅ Complex transformations with additional transform\n",
      "✅ Complex transformations with big angles\n",
      "❌ Complex transformations with nagative angles and additional transform\n",
      "   Expected: [2.56055, -2.43085, -1.54043]\n",
      "   Got: [ 8.04133619 -2.03014584  7.18497075]\n"
     ]
    }
   ],
   "source": [
    "lab_tester.test_chain_transformations(chain_transforms)"
   ]
  },
  {
   "cell_type": "code",
   "execution_count": 30,
   "metadata": {},
   "outputs": [
    {
     "name": "stdout",
     "output_type": "stream",
     "text": [
      "\n",
      "=== Test Summary ===\n",
      "Passed: 113/139 tests\n",
      "❌ 26 tests failed\n"
     ]
    }
   ],
   "source": [
    "# Summary of test results\n",
    "lab_tester.print_summary()"
   ]
  },
  {
   "cell_type": "markdown",
   "metadata": {},
   "source": []
  }
 ],
 "metadata": {
  "kernelspec": {
   "display_name": "Python 3",
   "language": "python",
   "name": "python3"
  },
  "language_info": {
   "codemirror_mode": {
    "name": "ipython",
    "version": 3
   },
   "file_extension": ".py",
   "mimetype": "text/x-python",
   "name": "python",
   "nbconvert_exporter": "python",
   "pygments_lexer": "ipython3",
   "version": "3.13.2"
  }
 },
 "nbformat": 4,
 "nbformat_minor": 2
}
