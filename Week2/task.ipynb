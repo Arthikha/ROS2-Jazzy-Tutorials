{
 "cells": [
  {
   "cell_type": "markdown",
   "metadata": {},
   "source": [
    "# 3D Rotation\n",
    "3D Rotation can be represented in different ways as discussed in last week's lectures.\n",
    "These include:\n",
    "1.\tRotation matrices\n",
    "2.  Three angle representation\n",
    "3.\tTwo vector representation\n",
    "4.\tRotation about an eigen vector\n",
    "5.\tUnit quaternion\n",
    "6.\tMatrix exponential\n",
    "\n",
    "We explored the `rotation matrices` approach in last weeks lab exercise.\n",
    "\n",
    "This lab is designed for you to implement rotation matrices in each of those different methods."
   ]
  },
  {
   "cell_type": "code",
   "execution_count": 1,
   "metadata": {},
   "outputs": [],
   "source": [
    "# import required libraries\n",
    "import numpy as np\n",
    "import matplotlib.pyplot as plt\n",
    "# To render plots inline\n",
    "%matplotlib inline\n",
    "\n",
    "# For unit tests\n",
    "from tester import LabTester\n",
    "lab_tester = LabTester()"
   ]
  },
  {
   "cell_type": "code",
   "execution_count": 6,
   "metadata": {},
   "outputs": [],
   "source": [
    "def rotation_three_angle(alpha:float, gamma:float, theta:float, p:np.ndarray) -> np.ndarray:\n",
    "    \"\"\"\n",
    "    Input:\n",
    "        alpha, gamma, theta - Euler angles of rotation about the axes (x, y, x)\n",
    "        p                   - The vector to be transformed\n",
    "    Output: resulting coordinates after appyling the rotation\n",
    "    \"\"\"\n",
    "    # Your code here - Use Euler angles method => (x,y,x)\n",
    "    alpha, gamma, theta = map(np.radians, [alpha, gamma, theta])\n",
    "\n",
    "    R_x_1 = np.array([\n",
    "        [1, 0, 0],\n",
    "        [0, np.cos(alpha), -np.sin(alpha)],\n",
    "        [0, np.sin(alpha), np.cos(alpha)]\n",
    "    ])\n",
    "    \n",
    "    R_y = np.array([\n",
    "        [np.cos(gamma), 0, np.sin(gamma)],\n",
    "        [0, 1, 0],\n",
    "        [-np.sin(gamma), 0, np.cos(gamma)]\n",
    "    ])\n",
    "    \n",
    "    R_x_2 = np.array([\n",
    "        [1, 0, 0],\n",
    "        [0, np.cos(theta), -np.sin(theta)],\n",
    "        [0, np.sin(theta), np.cos(theta)]\n",
    "    ])\n",
    "\n",
    "    p = R_x_1 @ R_y @ R_x_2 @ p\n",
    "\n",
    "    return p"
   ]
  },
  {
   "cell_type": "code",
   "execution_count": 7,
   "metadata": {},
   "outputs": [
    {
     "name": "stdout",
     "output_type": "stream",
     "text": [
      "\n",
      "=== Testing Three Angle Rotation Implementation ===\n",
      "✅ No Rotation\n",
      "✅ 45 Degree Rotation\n",
      "✅ Full Rotation\n",
      "✅ Negative 45 Degree Rotation\n"
     ]
    }
   ],
   "source": [
    "# Run test cases\n",
    "lab_tester.test_rotation_three_angle(rotation_three_angle)"
   ]
  },
  {
   "cell_type": "code",
   "execution_count": 14,
   "metadata": {},
   "outputs": [],
   "source": [
    "def skew_symmetric(v: np.ndarray) -> np.ndarray:\n",
    "        return np.array([\n",
    "            [0, -v[2], v[1]],\n",
    "            [v[2], 0, -v[0]],\n",
    "            [-v[1], v[0], 0]\n",
    "        ])\n",
    "\n",
    "def rotation_two_vector(a_v: np.ndarray, o_v: np.ndarray, p:np.ndarray) -> np.ndarray:\n",
    "    \"\"\"\n",
    "    Input:\n",
    "        a_v     - Approach vector\n",
    "        o_v     - Orientation vector\n",
    "        p       - The vector to be transformed\n",
    "    Output: resulting coordinates after appyling the rotation\n",
    "    \"\"\"\n",
    "    # Your code here\n",
    "\n",
    "    a_v = a_v / np.linalg.norm(a_v)\n",
    "    o_v = o_v / np.linalg.norm(o_v)\n",
    "    normal_vector = np.cross(a_v, o_v)\n",
    "    c = np.dot(a_v, o_v)\n",
    "    s = np.linalg.norm(normal_vector)\n",
    "    \n",
    "    normal_v_skew = skew_symmetric(normal_vector)\n",
    "    \n",
    "    R = np.eye(3) + normal_v_skew + (normal_v_skew @ normal_v_skew) * ((1 - c) / (s ** 2)) #Can't use Rodirgues Formula??\n",
    "    p = R @ p\n",
    "\n",
    "    return p"
   ]
  },
  {
   "cell_type": "code",
   "execution_count": 15,
   "metadata": {},
   "outputs": [
    {
     "name": "stdout",
     "output_type": "stream",
     "text": [
      "\n",
      "=== Testing Two Vector Rotation Implementation ===\n",
      "❌ X-Axis Rotation\n",
      "   Expected: [-1  1  1]\n",
      "   Got: [ 1. -1.  1.]\n",
      "❌ Y-Axis Rotation\n",
      "   Expected: [ 1 -1  1]\n",
      "   Got: [ 1.  1. -1.]\n",
      "❌ Z-Axis Rotation\n",
      "   Expected: [ 1  1 -1]\n",
      "   Got: [-1.  1.  1.]\n",
      "❌ 45-degree Z Rotation\n",
      "   Expected: [ 1  1 -1]\n",
      "   Got: [0.         1.41421356 1.        ]\n"
     ]
    }
   ],
   "source": [
    "lab_tester.test_rotation_two_vector(rotation_two_vector)"
   ]
  },
  {
   "cell_type": "code",
   "execution_count": 18,
   "metadata": {},
   "outputs": [],
   "source": [
    "def rotation_eigen_vector(neta: np.ndarray, theta:float, p:np.ndarray) -> np.ndarray:\n",
    "    \"\"\"\n",
    "    Input:\n",
    "        neta    - Eigen vector with eigen value 1\n",
    "        theta   - Angle of rotation about neta\n",
    "        p       - The vector to be transformed\n",
    "    Output: resulting coordinates after appyling the rotation\n",
    "    \"\"\"\n",
    "    # Your code here - Use Rodirgues Formula\n",
    "\n",
    "    theta = np.radians(theta)\n",
    "    \n",
    "    neta = neta / np.linalg.norm(neta)\n",
    "    neta_skew = skew_symmetric(neta)\n",
    "\n",
    "    R = np.eye(3) + np.sin(theta) * neta_skew + (1 - np.cos(theta)) * (neta_skew @ neta_skew)\n",
    "    p = R @ p\n",
    "\n",
    "    return p"
   ]
  },
  {
   "cell_type": "code",
   "execution_count": 19,
   "metadata": {},
   "outputs": [
    {
     "name": "stdout",
     "output_type": "stream",
     "text": [
      "\n",
      "=== Testing Eigen Vector Rotation Implementation ===\n",
      "✅ No Rotation\n",
      "✅ 180-degree Z Rotation\n",
      "✅ 90-degree X Rotation\n",
      "✅ 45-degree Y Rotation\n",
      "✅ Negative 90-degree Z Rotation\n"
     ]
    }
   ],
   "source": [
    "lab_tester.test_rotation_eigen_vector(rotation_eigen_vector)"
   ]
  },
  {
   "cell_type": "code",
   "execution_count": 8,
   "metadata": {},
   "outputs": [],
   "source": [
    "def rotation_unit_quaternion(q: np.ndarray, p: np.ndarray) -> np.ndarray:\n",
    "    # Your code here - q: Unit quaternion vector [Real, i, j, k]\n",
    "    return p"
   ]
  },
  {
   "cell_type": "code",
   "execution_count": 9,
   "metadata": {},
   "outputs": [
    {
     "name": "stdout",
     "output_type": "stream",
     "text": [
      "\n",
      "=== Testing Unit Quaternion Rotation Implementation ===\n",
      "✅ No Rotation\n"
     ]
    }
   ],
   "source": [
    "lab_tester.test_rotation_unit_quaternion(rotation_unit_quaternion)"
   ]
  },
  {
   "cell_type": "code",
   "execution_count": 10,
   "metadata": {},
   "outputs": [],
   "source": [
    "def rotation_matrix_exp(w_x : np.ndarray, theta: float, p: np.ndarray) -> np.ndarray:\n",
    "    # Your code here\n",
    "    return p"
   ]
  },
  {
   "cell_type": "code",
   "execution_count": 11,
   "metadata": {},
   "outputs": [
    {
     "name": "stdout",
     "output_type": "stream",
     "text": [
      "\n",
      "=== Testing Matrix Exponential Rotation Implementation ===\n",
      "✅ No Rotation\n"
     ]
    }
   ],
   "source": [
    "lab_tester.test_rotation_matrix_exp(rotation_matrix_exp)"
   ]
  }
 ],
 "metadata": {
  "kernelspec": {
   "display_name": "Python 3",
   "language": "python",
   "name": "python3"
  },
  "language_info": {
   "codemirror_mode": {
    "name": "ipython",
    "version": 3
   },
   "file_extension": ".py",
   "mimetype": "text/x-python",
   "name": "python",
   "nbconvert_exporter": "python",
   "pygments_lexer": "ipython3",
   "version": "3.13.1"
  }
 },
 "nbformat": 4,
 "nbformat_minor": 2
}
